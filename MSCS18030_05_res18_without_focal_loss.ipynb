{
  "nbformat": 4,
  "nbformat_minor": 0,
  "metadata": {
    "colab": {
      "name": "MSCS18030_05_res18_without_focal_loss.ipynb",
      "provenance": [],
      "collapsed_sections": []
    },
    "kernelspec": {
      "name": "python3",
      "display_name": "Python 3"
    },
    "accelerator": "GPU",
    "widgets": {
      "application/vnd.jupyter.widget-state+json": {
        "0c220129ee3947a7b960d1aea9e99f8a": {
          "model_module": "@jupyter-widgets/controls",
          "model_name": "HBoxModel",
          "state": {
            "_view_name": "HBoxView",
            "_dom_classes": [],
            "_model_name": "HBoxModel",
            "_view_module": "@jupyter-widgets/controls",
            "_model_module_version": "1.5.0",
            "_view_count": null,
            "_view_module_version": "1.5.0",
            "box_style": "",
            "layout": "IPY_MODEL_05b7e5dd5c704eaaa838e2898c82cae2",
            "_model_module": "@jupyter-widgets/controls",
            "children": [
              "IPY_MODEL_15948108ef974d64ab01250ef8ee7292",
              "IPY_MODEL_9fcb7d65330345aba03ef9a7b26877ca"
            ]
          }
        },
        "05b7e5dd5c704eaaa838e2898c82cae2": {
          "model_module": "@jupyter-widgets/base",
          "model_name": "LayoutModel",
          "state": {
            "_view_name": "LayoutView",
            "grid_template_rows": null,
            "right": null,
            "justify_content": null,
            "_view_module": "@jupyter-widgets/base",
            "overflow": null,
            "_model_module_version": "1.2.0",
            "_view_count": null,
            "flex_flow": null,
            "width": null,
            "min_width": null,
            "border": null,
            "align_items": null,
            "bottom": null,
            "_model_module": "@jupyter-widgets/base",
            "top": null,
            "grid_column": null,
            "overflow_y": null,
            "overflow_x": null,
            "grid_auto_flow": null,
            "grid_area": null,
            "grid_template_columns": null,
            "flex": null,
            "_model_name": "LayoutModel",
            "justify_items": null,
            "grid_row": null,
            "max_height": null,
            "align_content": null,
            "visibility": null,
            "align_self": null,
            "height": null,
            "min_height": null,
            "padding": null,
            "grid_auto_rows": null,
            "grid_gap": null,
            "max_width": null,
            "order": null,
            "_view_module_version": "1.2.0",
            "grid_template_areas": null,
            "object_position": null,
            "object_fit": null,
            "grid_auto_columns": null,
            "margin": null,
            "display": null,
            "left": null
          }
        },
        "15948108ef974d64ab01250ef8ee7292": {
          "model_module": "@jupyter-widgets/controls",
          "model_name": "IntProgressModel",
          "state": {
            "_view_name": "ProgressView",
            "style": "IPY_MODEL_39615d788da84448bb02d00c83cfe388",
            "_dom_classes": [],
            "description": "100%",
            "_model_name": "IntProgressModel",
            "bar_style": "success",
            "max": 46827520,
            "_view_module": "@jupyter-widgets/controls",
            "_model_module_version": "1.5.0",
            "value": 46827520,
            "_view_count": null,
            "_view_module_version": "1.5.0",
            "orientation": "horizontal",
            "min": 0,
            "description_tooltip": null,
            "_model_module": "@jupyter-widgets/controls",
            "layout": "IPY_MODEL_f955a1c4fc5545229bf69c24a959d93b"
          }
        },
        "9fcb7d65330345aba03ef9a7b26877ca": {
          "model_module": "@jupyter-widgets/controls",
          "model_name": "HTMLModel",
          "state": {
            "_view_name": "HTMLView",
            "style": "IPY_MODEL_385328f25e9c40c4aab4fc151ffd33e1",
            "_dom_classes": [],
            "description": "",
            "_model_name": "HTMLModel",
            "placeholder": "​",
            "_view_module": "@jupyter-widgets/controls",
            "_model_module_version": "1.5.0",
            "value": " 44.7M/44.7M [02:36&lt;00:00, 299kB/s]",
            "_view_count": null,
            "_view_module_version": "1.5.0",
            "description_tooltip": null,
            "_model_module": "@jupyter-widgets/controls",
            "layout": "IPY_MODEL_9e1bc0165e15467fb4a2450bc3231dd6"
          }
        },
        "39615d788da84448bb02d00c83cfe388": {
          "model_module": "@jupyter-widgets/controls",
          "model_name": "ProgressStyleModel",
          "state": {
            "_view_name": "StyleView",
            "_model_name": "ProgressStyleModel",
            "description_width": "initial",
            "_view_module": "@jupyter-widgets/base",
            "_model_module_version": "1.5.0",
            "_view_count": null,
            "_view_module_version": "1.2.0",
            "bar_color": null,
            "_model_module": "@jupyter-widgets/controls"
          }
        },
        "f955a1c4fc5545229bf69c24a959d93b": {
          "model_module": "@jupyter-widgets/base",
          "model_name": "LayoutModel",
          "state": {
            "_view_name": "LayoutView",
            "grid_template_rows": null,
            "right": null,
            "justify_content": null,
            "_view_module": "@jupyter-widgets/base",
            "overflow": null,
            "_model_module_version": "1.2.0",
            "_view_count": null,
            "flex_flow": null,
            "width": null,
            "min_width": null,
            "border": null,
            "align_items": null,
            "bottom": null,
            "_model_module": "@jupyter-widgets/base",
            "top": null,
            "grid_column": null,
            "overflow_y": null,
            "overflow_x": null,
            "grid_auto_flow": null,
            "grid_area": null,
            "grid_template_columns": null,
            "flex": null,
            "_model_name": "LayoutModel",
            "justify_items": null,
            "grid_row": null,
            "max_height": null,
            "align_content": null,
            "visibility": null,
            "align_self": null,
            "height": null,
            "min_height": null,
            "padding": null,
            "grid_auto_rows": null,
            "grid_gap": null,
            "max_width": null,
            "order": null,
            "_view_module_version": "1.2.0",
            "grid_template_areas": null,
            "object_position": null,
            "object_fit": null,
            "grid_auto_columns": null,
            "margin": null,
            "display": null,
            "left": null
          }
        },
        "385328f25e9c40c4aab4fc151ffd33e1": {
          "model_module": "@jupyter-widgets/controls",
          "model_name": "DescriptionStyleModel",
          "state": {
            "_view_name": "StyleView",
            "_model_name": "DescriptionStyleModel",
            "description_width": "",
            "_view_module": "@jupyter-widgets/base",
            "_model_module_version": "1.5.0",
            "_view_count": null,
            "_view_module_version": "1.2.0",
            "_model_module": "@jupyter-widgets/controls"
          }
        },
        "9e1bc0165e15467fb4a2450bc3231dd6": {
          "model_module": "@jupyter-widgets/base",
          "model_name": "LayoutModel",
          "state": {
            "_view_name": "LayoutView",
            "grid_template_rows": null,
            "right": null,
            "justify_content": null,
            "_view_module": "@jupyter-widgets/base",
            "overflow": null,
            "_model_module_version": "1.2.0",
            "_view_count": null,
            "flex_flow": null,
            "width": null,
            "min_width": null,
            "border": null,
            "align_items": null,
            "bottom": null,
            "_model_module": "@jupyter-widgets/base",
            "top": null,
            "grid_column": null,
            "overflow_y": null,
            "overflow_x": null,
            "grid_auto_flow": null,
            "grid_area": null,
            "grid_template_columns": null,
            "flex": null,
            "_model_name": "LayoutModel",
            "justify_items": null,
            "grid_row": null,
            "max_height": null,
            "align_content": null,
            "visibility": null,
            "align_self": null,
            "height": null,
            "min_height": null,
            "padding": null,
            "grid_auto_rows": null,
            "grid_gap": null,
            "max_width": null,
            "order": null,
            "_view_module_version": "1.2.0",
            "grid_template_areas": null,
            "object_position": null,
            "object_fit": null,
            "grid_auto_columns": null,
            "margin": null,
            "display": null,
            "left": null
          }
        }
      }
    }
  },
  "cells": [
    {
      "cell_type": "markdown",
      "metadata": {
        "id": "_R1PyM9aESdF",
        "colab_type": "text"
      },
      "source": [
        "<h1><center>Deep Learning : Assignment 05 part-b</h1>\n",
        "<h1><center>MSCS18030 - Muhammad Rauf Tabassam</h1>"
      ]
    },
    {
      "cell_type": "markdown",
      "metadata": {
        "id": "aYq-15rYFMq6",
        "colab_type": "text"
      },
      "source": [
        "#Objectives\n",
        "In part-2 of assignment 5, you will be performing multi-class, multi-label classification. You are required to implement focal loss for detecting infections such as COVID-19 among X-Ray images: \n",
        "\n",
        "1. Use CNN, pre-trained on ImageNet, to extract basic features from X-Ray images.\n",
        "2. Train the classification layers in order to detect instances of Infected (COVID-19 + Pneumonia) and Normal X-Ray images.\n",
        "3. Fine-tune the entire network to try to improve performance.\n",
        "4. Implement focal loss\n"
      ]
    },
    {
      "cell_type": "markdown",
      "metadata": {
        "id": "gLe8XP9E-bXd",
        "colab_type": "text"
      },
      "source": [
        "## Task 1: Finetune pre-trained CNN models\n",
        "* In this task you will fine-tune two networks (ResNet-18 and VGG-16) pretrained on ImageNet weights.\n",
        "* Load these models in PyTorch.\n",
        "* Replace all FC layers with a fully connected network of your choice. You are free to choose the number of layers and neurons per layer.\n",
        "* Finetune the model using CrossEntropy loss. Please note that default cross-entropy loss of PyTorch has a built-in Softmax. For this assignment you will not be needing softmax. So instead, use BCEWithLogitsLoss (link). This loss accepts one-hot vectors for targets. This loss automatically applies a sigmoid function.\n",
        "* Now write a function for Focal Loss and use this loss instead of the Negative Log Likelihood loss for finetuning the model.\n",
        "* You can also download part-1 codes of your class fellows from Github. Search for DLSpring2020 in the Github search bar. You must cite the repository if you are doing so.\n",
        "* Save your model and name it as ‘vgg16_focal_loss.pth’ and ‘res18_focal_loss.pth’\n",
        "\n",
        "Main experiments for Github are:\n",
        "1. One experiment of ResNet-18 and VGG-16 each, end-to-end without focal loss\n",
        "2. One experiment of ResNet-18 and VGG-16 each, end-to-end with focal loss\n"
      ]
    },
    {
      "cell_type": "code",
      "metadata": {
        "id": "y5_aRog7MbDX",
        "colab_type": "code",
        "outputId": "cd4ed349-4f16-47aa-dbee-a6ecacfb3267",
        "colab": {
          "base_uri": "https://localhost:8080/",
          "height": 122
        }
      },
      "source": [
        "from google.colab import drive\n",
        "drive.mount(\"./drive\")"
      ],
      "execution_count": 1,
      "outputs": [
        {
          "output_type": "stream",
          "text": [
            "Go to this URL in a browser: https://accounts.google.com/o/oauth2/auth?client_id=947318989803-6bn6qk8qdgf4n4g3pfee6491hc0brc4i.apps.googleusercontent.com&redirect_uri=urn%3aietf%3awg%3aoauth%3a2.0%3aoob&response_type=code&scope=email%20https%3a%2f%2fwww.googleapis.com%2fauth%2fdocs.test%20https%3a%2f%2fwww.googleapis.com%2fauth%2fdrive%20https%3a%2f%2fwww.googleapis.com%2fauth%2fdrive.photos.readonly%20https%3a%2f%2fwww.googleapis.com%2fauth%2fpeopleapi.readonly\n",
            "\n",
            "Enter your authorization code:\n",
            "··········\n",
            "Mounted at ./drive\n"
          ],
          "name": "stdout"
        }
      ]
    },
    {
      "cell_type": "code",
      "metadata": {
        "id": "lduiOSDJN4Xr",
        "colab_type": "code",
        "colab": {}
      },
      "source": [
        "import torch\n",
        "import torch.nn as nn\n",
        "import torch.optim as optim\n",
        "from torch.optim import lr_scheduler\n",
        "from torch.autograd import Variable\n",
        "import numpy as np\n",
        "import torchvision\n",
        "from torchvision import datasets, models, transforms\n",
        "import matplotlib.pyplot as plt\n",
        "import time\n",
        "import os\n",
        "import copy"
      ],
      "execution_count": 0,
      "outputs": []
    },
    {
      "cell_type": "code",
      "metadata": {
        "id": "lwykj_Vs_f0H",
        "colab_type": "code",
        "colab": {}
      },
      "source": [
        "!unzip '/content/drive/My Drive/Copy of A_05_Part_02_Dataset.zip' #-d '/content/drive/My Drive/DL_A5b_data'"
      ],
      "execution_count": 0,
      "outputs": []
    },
    {
      "cell_type": "code",
      "metadata": {
        "id": "8_ZIReNfKmWZ",
        "colab_type": "code",
        "colab": {}
      },
      "source": [
        "data_dir = '/content/A_05_Part_02_Dataset'"
      ],
      "execution_count": 0,
      "outputs": []
    },
    {
      "cell_type": "code",
      "metadata": {
        "id": "V1M_tUqBNouX",
        "colab_type": "code",
        "outputId": "2fb65732-5820-4c54-e004-2914bd9e45f8",
        "colab": {
          "base_uri": "https://localhost:8080/",
          "height": 102
        }
      },
      "source": [
        "#Define transforms for the training data and testing data\n",
        "train_transforms = transforms.Compose([transforms.RandomRotation(25),\n",
        "                                       transforms.RandomResizedCrop(224),\n",
        "                                       transforms.RandomHorizontalFlip(),\n",
        "                                       transforms.ToTensor(),\n",
        "                                       transforms.Normalize([0.485, 0.456, 0.406],\n",
        "                                                            [0.229, 0.224, 0.225])])\n",
        "\n",
        "validation_transforms = transforms.Compose([transforms.Resize(256),\n",
        "                                      transforms.CenterCrop(224),\n",
        "                                      transforms.ToTensor(),\n",
        "                                      transforms.Normalize([0.485, 0.456, 0.406],\n",
        "                                                           [0.229, 0.224, 0.225])])\n",
        "\n",
        "test_transforms = transforms.Compose([transforms.Resize(256),\n",
        "                                      transforms.CenterCrop(224),\n",
        "                                      transforms.ToTensor(),\n",
        "                                      transforms.Normalize([0.485, 0.456, 0.406],\n",
        "                                                           [0.229, 0.224, 0.225])])\n",
        "\n",
        "#pass transform here-in\n",
        "train_data = datasets.ImageFolder(data_dir + '/Train', transform=train_transforms)\n",
        "validation_data = datasets.ImageFolder(data_dir + '/Validation', transform=validation_transforms)\n",
        "test_data = datasets.ImageFolder(data_dir + '/Test2', transform=test_transforms)\n",
        "\n",
        "print(\"train_data: \", len(train_data))\n",
        "print(\"validation_data: \", len(validation_data))\n",
        "print(\"test_data: \", len(test_data))\n",
        "\n",
        "#data loaders\n",
        "trainloader = torch.utils.data.DataLoader(train_data, batch_size=32, shuffle=True, num_workers=4)\n",
        "validationloader = torch.utils.data.DataLoader(validation_data, batch_size=32, shuffle=True, num_workers=4)\n",
        "testloader = torch.utils.data.DataLoader(test_data, batch_size=1, shuffle=False, num_workers=4)\n",
        "\n",
        "print(\"Classes: \")\n",
        "class_names = train_data.classes\n",
        "print(class_names)\n"
      ],
      "execution_count": 50,
      "outputs": [
        {
          "output_type": "stream",
          "text": [
            "train_data:  6200\n",
            "validation_data:  628\n",
            "test_data:  629\n",
            "Classes: \n",
            "['covid-19', 'normal', 'pneumonia']\n"
          ],
          "name": "stdout"
        }
      ]
    },
    {
      "cell_type": "code",
      "metadata": {
        "id": "iXAo_5imO7BS",
        "colab_type": "code",
        "outputId": "d7f99031-2567-4765-f576-6451250aaa11",
        "colab": {
          "base_uri": "https://localhost:8080/",
          "height": 156
        }
      },
      "source": [
        "def imshow(inp, title=None):\n",
        "    inp = inp.numpy().transpose((1, 2, 0))\n",
        "    plt.axis('off')\n",
        "    plt.imshow(inp)\n",
        "    if title is not None:\n",
        "        plt.title(title)\n",
        "    plt.pause(0.001)\n",
        "\n",
        "def show_databatch(inputs, classes):\n",
        "    out = torchvision.utils.make_grid(inputs)\n",
        "    imshow(out, title=[class_names[x] for x in classes])\n",
        "\n",
        "# Get a batch of training data\n",
        "inputs, classes = next(iter(trainloader))\n",
        "show_databatch(inputs, classes)"
      ],
      "execution_count": 6,
      "outputs": [
        {
          "output_type": "stream",
          "text": [
            "Clipping input data to the valid range for imshow with RGB data ([0..1] for floats or [0..255] for integers).\n"
          ],
          "name": "stderr"
        },
        {
          "output_type": "display_data",
          "data": {
            "image/png": "[encoded data removed]",
            "text/plain": [
              "<Figure size 432x288 with 1 Axes>"
            ]
          },
          "metadata": {
            "tags": [],
            "needs_background": "light"
          }
        }
      ]
    },
    {
      "cell_type": "code",
      "metadata": {
        "id": "6qkXmKh2NgIn",
        "colab_type": "code",
        "colab": {}
      },
      "source": [
        "def Accuracy(model,loader):\n",
        "    model = model.to(device)\n",
        "    correct = 0\n",
        "    total = 0\n",
        "    lbls = []\n",
        "    pred = []\n",
        "    with torch.no_grad():\n",
        "        for data in tqdm(loader):\n",
        "            images, labels = data\n",
        "            images, labels = images.to(device), one_hot(labels).to(device)\n",
        "            outputs = model(images)\n",
        "            predicted = torch.sigmoid(outputs.data)\n",
        "            for i in range(len(predicted)):\n",
        "                for j in range(len(predicted[i])):\n",
        "                    if predicted[i][j] >= 0.5:\n",
        "                        predicted[i][j] = 1\n",
        "                    else:\n",
        "                        predicted[i][j] = 0\n",
        "            total += labels.size(0)\n",
        "            for i in range(labels.size(0)):\n",
        "                if(str(predicted[i]) == str(labels[i])):\n",
        "                    correct += 1\n",
        "            lbls.extend(labels.tolist())\n",
        "            pred.extend(predicted.tolist())\n",
        "    return correct/total, lbls, pred\n",
        "\n",
        "def one_hot(label):\n",
        "    one_h = torch.zeros(len(label),3)\n",
        "    for i in range(len(label)):\n",
        "        if label[i] == 0:\n",
        "            one_h[i][0] = 1\n",
        "            one_h[i][1] = 1\n",
        "        elif label[i] == 1:\n",
        "            one_h[i][1] = 1\n",
        "        elif label[i] == 2:\n",
        "            one_h[i][2] = 1\n",
        "    return one_h"
      ],
      "execution_count": 0,
      "outputs": []
    },
    {
      "cell_type": "markdown",
      "metadata": {
        "id": "nh4IqzrHEzpC",
        "colab_type": "text"
      },
      "source": [
        "# Task 1: Load pretrained CNN model and fine-tune FC Layers"
      ]
    },
    {
      "cell_type": "markdown",
      "metadata": {
        "id": "y0DboDdKE_KS",
        "colab_type": "text"
      },
      "source": [
        "## ResNet18"
      ]
    },
    {
      "cell_type": "markdown",
      "metadata": {
        "id": "DFA6WaEQPN74",
        "colab_type": "text"
      },
      "source": [
        "### Loading pre-trained RES18"
      ]
    },
    {
      "cell_type": "code",
      "metadata": {
        "id": "e8B5IYhDFCOx",
        "colab_type": "code",
        "outputId": "576df35f-3985-4cdb-ad89-45a4cb688664",
        "colab": {
          "base_uri": "https://localhost:8080/",
          "height": 1000,
          "referenced_widgets": [
            "0c220129ee3947a7b960d1aea9e99f8a",
            "05b7e5dd5c704eaaa838e2898c82cae2",
            "15948108ef974d64ab01250ef8ee7292",
            "9fcb7d65330345aba03ef9a7b26877ca",
            "39615d788da84448bb02d00c83cfe388",
            "f955a1c4fc5545229bf69c24a959d93b",
            "385328f25e9c40c4aab4fc151ffd33e1",
            "9e1bc0165e15467fb4a2450bc3231dd6"
          ]
        }
      },
      "source": [
        "# Load the pretrained model from pytorch\n",
        "res18 = models.resnet18(pretrained=True)\n",
        "num_features = res18.fc.in_features\n",
        "fc_features = []\n",
        "fc_features.append(nn.Linear(num_features,256))\n",
        "fc_features.append(nn.ReLU(inplace=True))\n",
        "fc_features.append(nn.Dropout())\n",
        "fc_features.append(nn.Linear(256,128))\n",
        "fc_features.append(nn.ReLU(inplace=True))\n",
        "fc_features.append(nn.Dropout())\n",
        "fc_features.append(nn.Linear(128, len(class_names)))\n",
        "\n",
        "res18.fc = nn.Sequential(*fc_features)\n",
        "print(res18)\n"
      ],
      "execution_count": 8,
      "outputs": [
        {
          "output_type": "stream",
          "text": [
            "Downloading: \"https://download.pytorch.org/models/resnet18-5c106cde.pth\" to /root/.cache/torch/checkpoints/resnet18-5c106cde.pth\n"
          ],
          "name": "stderr"
        },
        {
          "output_type": "display_data",
          "data": {
            "application/vnd.jupyter.widget-view+json": {
              "model_id": "0c220129ee3947a7b960d1aea9e99f8a",
              "version_minor": 0,
              "version_major": 2
            },
            "text/plain": [
              "HBox(children=(IntProgress(value=0, max=46827520), HTML(value='')))"
            ]
          },
          "metadata": {
            "tags": []
          }
        },
        {
          "output_type": "stream",
          "text": [
            "\n",
            "ResNet(\n",
            "  (conv1): Conv2d(3, 64, kernel_size=(7, 7), stride=(2, 2), padding=(3, 3), bias=False)\n",
            "  (bn1): BatchNorm2d(64, eps=1e-05, momentum=0.1, affine=True, track_running_stats=True)\n",
            "  (relu): ReLU(inplace=True)\n",
            "  (maxpool): MaxPool2d(kernel_size=3, stride=2, padding=1, dilation=1, ceil_mode=False)\n",
            "  (layer1): Sequential(\n",
            "    (0): BasicBlock(\n",
            "      (conv1): Conv2d(64, 64, kernel_size=(3, 3), stride=(1, 1), padding=(1, 1), bias=False)\n",
            "      (bn1): BatchNorm2d(64, eps=1e-05, momentum=0.1, affine=True, track_running_stats=True)\n",
            "      (relu): ReLU(inplace=True)\n",
            "      (conv2): Conv2d(64, 64, kernel_size=(3, 3), stride=(1, 1), padding=(1, 1), bias=False)\n",
            "      (bn2): BatchNorm2d(64, eps=1e-05, momentum=0.1, affine=True, track_running_stats=True)\n",
            "    )\n",
            "    (1): BasicBlock(\n",
            "      (conv1): Conv2d(64, 64, kernel_size=(3, 3), stride=(1, 1), padding=(1, 1), bias=False)\n",
            "      (bn1): BatchNorm2d(64, eps=1e-05, momentum=0.1, affine=True, track_running_stats=True)\n",
            "      (relu): ReLU(inplace=True)\n",
            "      (conv2): Conv2d(64, 64, kernel_size=(3, 3), stride=(1, 1), padding=(1, 1), bias=False)\n",
            "      (bn2): BatchNorm2d(64, eps=1e-05, momentum=0.1, affine=True, track_running_stats=True)\n",
            "    )\n",
            "  )\n",
            "  (layer2): Sequential(\n",
            "    (0): BasicBlock(\n",
            "      (conv1): Conv2d(64, 128, kernel_size=(3, 3), stride=(2, 2), padding=(1, 1), bias=False)\n",
            "      (bn1): BatchNorm2d(128, eps=1e-05, momentum=0.1, affine=True, track_running_stats=True)\n",
            "      (relu): ReLU(inplace=True)\n",
            "      (conv2): Conv2d(128, 128, kernel_size=(3, 3), stride=(1, 1), padding=(1, 1), bias=False)\n",
            "      (bn2): BatchNorm2d(128, eps=1e-05, momentum=0.1, affine=True, track_running_stats=True)\n",
            "      (downsample): Sequential(\n",
            "        (0): Conv2d(64, 128, kernel_size=(1, 1), stride=(2, 2), bias=False)\n",
            "        (1): BatchNorm2d(128, eps=1e-05, momentum=0.1, affine=True, track_running_stats=True)\n",
            "      )\n",
            "    )\n",
            "    (1): BasicBlock(\n",
            "      (conv1): Conv2d(128, 128, kernel_size=(3, 3), stride=(1, 1), padding=(1, 1), bias=False)\n",
            "      (bn1): BatchNorm2d(128, eps=1e-05, momentum=0.1, affine=True, track_running_stats=True)\n",
            "      (relu): ReLU(inplace=True)\n",
            "      (conv2): Conv2d(128, 128, kernel_size=(3, 3), stride=(1, 1), padding=(1, 1), bias=False)\n",
            "      (bn2): BatchNorm2d(128, eps=1e-05, momentum=0.1, affine=True, track_running_stats=True)\n",
            "    )\n",
            "  )\n",
            "  (layer3): Sequential(\n",
            "    (0): BasicBlock(\n",
            "      (conv1): Conv2d(128, 256, kernel_size=(3, 3), stride=(2, 2), padding=(1, 1), bias=False)\n",
            "      (bn1): BatchNorm2d(256, eps=1e-05, momentum=0.1, affine=True, track_running_stats=True)\n",
            "      (relu): ReLU(inplace=True)\n",
            "      (conv2): Conv2d(256, 256, kernel_size=(3, 3), stride=(1, 1), padding=(1, 1), bias=False)\n",
            "      (bn2): BatchNorm2d(256, eps=1e-05, momentum=0.1, affine=True, track_running_stats=True)\n",
            "      (downsample): Sequential(\n",
            "        (0): Conv2d(128, 256, kernel_size=(1, 1), stride=(2, 2), bias=False)\n",
            "        (1): BatchNorm2d(256, eps=1e-05, momentum=0.1, affine=True, track_running_stats=True)\n",
            "      )\n",
            "    )\n",
            "    (1): BasicBlock(\n",
            "      (conv1): Conv2d(256, 256, kernel_size=(3, 3), stride=(1, 1), padding=(1, 1), bias=False)\n",
            "      (bn1): BatchNorm2d(256, eps=1e-05, momentum=0.1, affine=True, track_running_stats=True)\n",
            "      (relu): ReLU(inplace=True)\n",
            "      (conv2): Conv2d(256, 256, kernel_size=(3, 3), stride=(1, 1), padding=(1, 1), bias=False)\n",
            "      (bn2): BatchNorm2d(256, eps=1e-05, momentum=0.1, affine=True, track_running_stats=True)\n",
            "    )\n",
            "  )\n",
            "  (layer4): Sequential(\n",
            "    (0): BasicBlock(\n",
            "      (conv1): Conv2d(256, 512, kernel_size=(3, 3), stride=(2, 2), padding=(1, 1), bias=False)\n",
            "      (bn1): BatchNorm2d(512, eps=1e-05, momentum=0.1, affine=True, track_running_stats=True)\n",
            "      (relu): ReLU(inplace=True)\n",
            "      (conv2): Conv2d(512, 512, kernel_size=(3, 3), stride=(1, 1), padding=(1, 1), bias=False)\n",
            "      (bn2): BatchNorm2d(512, eps=1e-05, momentum=0.1, affine=True, track_running_stats=True)\n",
            "      (downsample): Sequential(\n",
            "        (0): Conv2d(256, 512, kernel_size=(1, 1), stride=(2, 2), bias=False)\n",
            "        (1): BatchNorm2d(512, eps=1e-05, momentum=0.1, affine=True, track_running_stats=True)\n",
            "      )\n",
            "    )\n",
            "    (1): BasicBlock(\n",
            "      (conv1): Conv2d(512, 512, kernel_size=(3, 3), stride=(1, 1), padding=(1, 1), bias=False)\n",
            "      (bn1): BatchNorm2d(512, eps=1e-05, momentum=0.1, affine=True, track_running_stats=True)\n",
            "      (relu): ReLU(inplace=True)\n",
            "      (conv2): Conv2d(512, 512, kernel_size=(3, 3), stride=(1, 1), padding=(1, 1), bias=False)\n",
            "      (bn2): BatchNorm2d(512, eps=1e-05, momentum=0.1, affine=True, track_running_stats=True)\n",
            "    )\n",
            "  )\n",
            "  (avgpool): AdaptiveAvgPool2d(output_size=(1, 1))\n",
            "  (fc): Sequential(\n",
            "    (0): Linear(in_features=512, out_features=256, bias=True)\n",
            "    (1): ReLU(inplace=True)\n",
            "    (2): Dropout(p=0.5, inplace=False)\n",
            "    (3): Linear(in_features=256, out_features=128, bias=True)\n",
            "    (4): ReLU(inplace=True)\n",
            "    (5): Dropout(p=0.5, inplace=False)\n",
            "    (6): Linear(in_features=128, out_features=3, bias=True)\n",
            "  )\n",
            ")\n"
          ],
          "name": "stdout"
        }
      ]
    },
    {
      "cell_type": "code",
      "metadata": {
        "id": "rYmyDwiSpq_H",
        "colab_type": "code",
        "colab": {}
      },
      "source": [
        "res18.requires_grad = True"
      ],
      "execution_count": 0,
      "outputs": []
    },
    {
      "cell_type": "markdown",
      "metadata": {
        "id": "cQl7wE-OUDsj",
        "colab_type": "text"
      },
      "source": [
        "### Loss function and optimizer"
      ]
    },
    {
      "cell_type": "code",
      "metadata": {
        "id": "sMpmCeH9EnMv",
        "colab_type": "code",
        "colab": {}
      },
      "source": [
        "Epochs = 30\n",
        "criterion = nn.BCEWithLogitsLoss()\n",
        "optimizer = optim.SGD(res18.parameters(), lr=0.001, momentum=0.9) #, weight_decay=1e-5) #https://medium.com/udacity-pytorch-challengers/ideas-on-how-to-fine-tune-a-pre-trained-model-in-pytorch-184c47185a20"
      ],
      "execution_count": 0,
      "outputs": []
    },
    {
      "cell_type": "markdown",
      "metadata": {
        "id": "pkEskYJFULDB",
        "colab_type": "text"
      },
      "source": [
        "### Training"
      ]
    },
    {
      "cell_type": "code",
      "metadata": {
        "id": "s40xRmJlUKLG",
        "colab_type": "code",
        "outputId": "f0d9c4d3-1741-4f7e-e623-d97bfa817cd7",
        "colab": {
          "base_uri": "https://localhost:8080/",
          "height": 1000
        }
      },
      "source": [
        "from tqdm import tqdm\n",
        "\n",
        "#if you have gpu then you need to convert the network and data to cuda\n",
        "#the easiest way is to first check for device and then convert network and data to device\n",
        "device = torch.device(\"cuda:0\" if torch.cuda.is_available() else \"cpu\")\n",
        "print(\"device:\", device)\n",
        "res18.to(device)\n",
        "\n",
        "res18.train()\n",
        "train_loss = []\n",
        "train_accu = []\n",
        "validation_loss = []\n",
        "validation_accu = []\n",
        "\n",
        "for epoch in range(Epochs):  # loop over the dataset multiple times\n",
        "    # inp = input(\"Press 'N' to stop, anykey to continue!\")\n",
        "    # if inp == 'N':\n",
        "    #     break\n",
        "    #training\n",
        "    running_loss = 0.0\n",
        "    pbar = tqdm(enumerate(trainloader))\n",
        "    for i, data in pbar:\n",
        "        # get the inputs\n",
        "        inputs, labels = data\n",
        "        inputs, labels = inputs.to(device), labels.to(device)\n",
        "\n",
        "        # zero the parameter gradients\n",
        "        optimizer.zero_grad()\n",
        "        outputs = res18.forward(inputs)     #----> forward pass\n",
        "        oh_labels = one_hot(labels).to(device)\n",
        "        loss = criterion(outputs, oh_labels)   #----> compute loss\n",
        "        loss.backward()                     #----> backward pass\n",
        "        optimizer.step()                    #----> weights update\n",
        "\n",
        "        # print statistics\n",
        "        running_loss += loss.item()\n",
        "        \n",
        "        pbar.set_description(\n",
        "            'Train Epoch: {} [{}/{} ({:.0f}%)]\\tLoss: {:.6f}'.format(\n",
        "                epoch, i * len(inputs), len(trainloader.dataset),\n",
        "                100. * i / len(trainloader),\n",
        "                loss.data))\n",
        "    train_loss.append(running_loss)\n",
        "    train_accu.append(Accuracy(res18,trainloader)[0])\n",
        "    print(\"Training Accuracy:\",train_accu[-1])\n",
        "    #torch.save(res18.state_dict(), str(epoch)+'res18_without_focal_loss.pth')\n",
        "    \n",
        "    #validation loss\n",
        "    running_loss = 0.0\n",
        "    pbar = tqdm(enumerate(validationloader))\n",
        "    for i, data in pbar:\n",
        "        # get the inputs\n",
        "        inputs, labels = data\n",
        "        inputs, labels = inputs.to(device), labels.to(device)\n",
        "\n",
        "        # zero the parameter gradients\n",
        "        optimizer.zero_grad() \n",
        "        outputs = res18.forward(inputs)     #----> forward pass\n",
        "        oh_labels = one_hot(labels).to(device)\n",
        "        loss = criterion(outputs, oh_labels)   #----> compute loss\n",
        "\n",
        "        # print statistics\n",
        "        running_loss += loss.item()\n",
        "        \n",
        "        pbar.set_description(\n",
        "            'Validation Epoch: {} [{}/{} ({:.0f}%)]\\tLoss: {:.6f}'.format(\n",
        "                epoch, i * len(inputs), len(validationloader.dataset),\n",
        "                100. * i / len(validationloader),\n",
        "                loss.data))\n",
        "    validation_loss.append(running_loss) \n",
        "    validation_accu.append(Accuracy(res18,validationloader)[0])\n",
        "    print(\"Validation Accuracy:\",validation_accu[-1])\n",
        "    \n",
        "print('Finished Training')"
      ],
      "execution_count": 11,
      "outputs": [
        {
          "output_type": "stream",
          "text": [
            "device: cuda:0\n"
          ],
          "name": "stdout"
        },
        {
          "output_type": "stream",
          "text": [
            "Train Epoch: 0 [4632/6200 (99%)]\tLoss: 0.424157: : 194it [01:42,  1.89it/s]\n",
            "100%|██████████| 194/194 [01:44<00:00,  1.86it/s]"
          ],
          "name": "stderr"
        },
        {
          "output_type": "stream",
          "text": [
            "Training Accuracy: 0.6429032258064517\n"
          ],
          "name": "stdout"
        },
        {
          "output_type": "stream",
          "text": [
            "\n",
            "Validation Epoch: 0 [380/628 (95%)]\tLoss: 0.319392: : 20it [00:08,  2.34it/s]\n",
            "100%|██████████| 20/20 [00:09<00:00,  2.17it/s]"
          ],
          "name": "stderr"
        },
        {
          "output_type": "stream",
          "text": [
            "Validation Accuracy: 0.6337579617834395\n"
          ],
          "name": "stdout"
        },
        {
          "output_type": "stream",
          "text": [
            "\n",
            "Train Epoch: 1 [4632/6200 (99%)]\tLoss: 0.460673: : 194it [01:41,  1.92it/s]\n",
            "100%|██████████| 194/194 [01:44<00:00,  1.86it/s]"
          ],
          "name": "stderr"
        },
        {
          "output_type": "stream",
          "text": [
            "Training Accuracy: 0.675\n"
          ],
          "name": "stdout"
        },
        {
          "output_type": "stream",
          "text": [
            "\n",
            "Validation Epoch: 1 [380/628 (95%)]\tLoss: 0.264813: : 20it [00:08,  2.33it/s]\n",
            "100%|██████████| 20/20 [00:09<00:00,  2.19it/s]"
          ],
          "name": "stderr"
        },
        {
          "output_type": "stream",
          "text": [
            "Validation Accuracy: 0.695859872611465\n"
          ],
          "name": "stdout"
        },
        {
          "output_type": "stream",
          "text": [
            "\n",
            "Train Epoch: 2 [4632/6200 (99%)]\tLoss: 0.430731: : 194it [01:42,  1.90it/s]\n",
            "100%|██████████| 194/194 [01:45<00:00,  1.85it/s]\n"
          ],
          "name": "stderr"
        },
        {
          "output_type": "stream",
          "text": [
            "Training Accuracy: 0.8062903225806451\n"
          ],
          "name": "stdout"
        },
        {
          "output_type": "stream",
          "text": [
            "Validation Epoch: 2 [380/628 (95%)]\tLoss: 0.397844: : 20it [00:08,  2.29it/s]\n",
            "100%|██████████| 20/20 [00:09<00:00,  2.16it/s]"
          ],
          "name": "stderr"
        },
        {
          "output_type": "stream",
          "text": [
            "Validation Accuracy: 0.8232484076433121\n"
          ],
          "name": "stdout"
        },
        {
          "output_type": "stream",
          "text": [
            "\n",
            "Train Epoch: 3 [4632/6200 (99%)]\tLoss: 0.281655: : 194it [01:42,  1.89it/s]\n",
            "100%|██████████| 194/194 [01:45<00:00,  1.83it/s]"
          ],
          "name": "stderr"
        },
        {
          "output_type": "stream",
          "text": [
            "Training Accuracy: 0.8479032258064516\n"
          ],
          "name": "stdout"
        },
        {
          "output_type": "stream",
          "text": [
            "\n",
            "Validation Epoch: 3 [380/628 (95%)]\tLoss: 0.245809: : 20it [00:08,  2.27it/s]\n",
            "100%|██████████| 20/20 [00:09<00:00,  2.10it/s]"
          ],
          "name": "stderr"
        },
        {
          "output_type": "stream",
          "text": [
            "Validation Accuracy: 0.8694267515923567\n"
          ],
          "name": "stdout"
        },
        {
          "output_type": "stream",
          "text": [
            "\n",
            "Train Epoch: 4 [4632/6200 (99%)]\tLoss: 0.275374: : 194it [01:42,  1.89it/s]\n",
            "100%|██████████| 194/194 [01:45<00:00,  1.84it/s]"
          ],
          "name": "stderr"
        },
        {
          "output_type": "stream",
          "text": [
            "Training Accuracy: 0.8579032258064516\n"
          ],
          "name": "stdout"
        },
        {
          "output_type": "stream",
          "text": [
            "\n",
            "Validation Epoch: 4 [380/628 (95%)]\tLoss: 0.254048: : 20it [00:08,  2.28it/s]\n",
            "100%|██████████| 20/20 [00:09<00:00,  2.14it/s]"
          ],
          "name": "stderr"
        },
        {
          "output_type": "stream",
          "text": [
            "Validation Accuracy: 0.8726114649681529\n"
          ],
          "name": "stdout"
        },
        {
          "output_type": "stream",
          "text": [
            "\n",
            "Train Epoch: 5 [4632/6200 (99%)]\tLoss: 0.148204: : 194it [01:42,  1.89it/s]\n",
            "100%|██████████| 194/194 [01:45<00:00,  1.84it/s]\n"
          ],
          "name": "stderr"
        },
        {
          "output_type": "stream",
          "text": [
            "Training Accuracy: 0.86\n"
          ],
          "name": "stdout"
        },
        {
          "output_type": "stream",
          "text": [
            "Validation Epoch: 5 [380/628 (95%)]\tLoss: 0.262778: : 20it [00:08,  2.31it/s]\n",
            "100%|██████████| 20/20 [00:09<00:00,  2.13it/s]"
          ],
          "name": "stderr"
        },
        {
          "output_type": "stream",
          "text": [
            "Validation Accuracy: 0.8742038216560509\n"
          ],
          "name": "stdout"
        },
        {
          "output_type": "stream",
          "text": [
            "\n",
            "Train Epoch: 6 [4632/6200 (99%)]\tLoss: 0.186642: : 194it [01:42,  1.88it/s]\n",
            "100%|██████████| 194/194 [01:46<00:00,  1.83it/s]"
          ],
          "name": "stderr"
        },
        {
          "output_type": "stream",
          "text": [
            "Training Accuracy: 0.863225806451613\n"
          ],
          "name": "stdout"
        },
        {
          "output_type": "stream",
          "text": [
            "\n",
            "Validation Epoch: 6 [380/628 (95%)]\tLoss: 0.227926: : 20it [00:08,  2.29it/s]\n",
            "100%|██████████| 20/20 [00:09<00:00,  2.15it/s]"
          ],
          "name": "stderr"
        },
        {
          "output_type": "stream",
          "text": [
            "Validation Accuracy: 0.8853503184713376\n"
          ],
          "name": "stdout"
        },
        {
          "output_type": "stream",
          "text": [
            "\n",
            "Train Epoch: 7 [4632/6200 (99%)]\tLoss: 0.325080: : 194it [01:43,  1.88it/s]\n",
            "100%|██████████| 194/194 [01:46<00:00,  1.82it/s]"
          ],
          "name": "stderr"
        },
        {
          "output_type": "stream",
          "text": [
            "Training Accuracy: 0.8670967741935484\n"
          ],
          "name": "stdout"
        },
        {
          "output_type": "stream",
          "text": [
            "\n",
            "Validation Epoch: 7 [380/628 (95%)]\tLoss: 0.180679: : 20it [00:08,  2.28it/s]\n",
            "100%|██████████| 20/20 [00:09<00:00,  2.12it/s]"
          ],
          "name": "stderr"
        },
        {
          "output_type": "stream",
          "text": [
            "Validation Accuracy: 0.893312101910828\n"
          ],
          "name": "stdout"
        },
        {
          "output_type": "stream",
          "text": [
            "\n",
            "Train Epoch: 8 [4632/6200 (99%)]\tLoss: 0.138624: : 194it [01:42,  1.89it/s]\n",
            "100%|██████████| 194/194 [01:46<00:00,  1.83it/s]"
          ],
          "name": "stderr"
        },
        {
          "output_type": "stream",
          "text": [
            "Training Accuracy: 0.8767741935483871\n"
          ],
          "name": "stdout"
        },
        {
          "output_type": "stream",
          "text": [
            "\n",
            "Validation Epoch: 8 [380/628 (95%)]\tLoss: 0.244673: : 20it [00:08,  2.27it/s]\n",
            "100%|██████████| 20/20 [00:09<00:00,  2.14it/s]"
          ],
          "name": "stderr"
        },
        {
          "output_type": "stream",
          "text": [
            "Validation Accuracy: 0.8996815286624203\n"
          ],
          "name": "stdout"
        },
        {
          "output_type": "stream",
          "text": [
            "\n",
            "Train Epoch: 9 [4632/6200 (99%)]\tLoss: 0.480984: : 194it [01:43,  1.88it/s]\n",
            "100%|██████████| 194/194 [01:43<00:00,  1.87it/s]"
          ],
          "name": "stderr"
        },
        {
          "output_type": "stream",
          "text": [
            "Training Accuracy: 0.8767741935483871\n"
          ],
          "name": "stdout"
        },
        {
          "output_type": "stream",
          "text": [
            "\n",
            "Validation Epoch: 9 [380/628 (95%)]\tLoss: 0.188502: : 20it [00:08,  2.33it/s]\n",
            "100%|██████████| 20/20 [00:09<00:00,  2.19it/s]"
          ],
          "name": "stderr"
        },
        {
          "output_type": "stream",
          "text": [
            "Validation Accuracy: 0.8901273885350318\n"
          ],
          "name": "stdout"
        },
        {
          "output_type": "stream",
          "text": [
            "\n",
            "Train Epoch: 10 [4632/6200 (99%)]\tLoss: 0.194197: : 194it [01:40,  1.93it/s]\n",
            "100%|██████████| 194/194 [01:43<00:00,  1.88it/s]"
          ],
          "name": "stderr"
        },
        {
          "output_type": "stream",
          "text": [
            "Training Accuracy: 0.8816129032258064\n"
          ],
          "name": "stdout"
        },
        {
          "output_type": "stream",
          "text": [
            "\n",
            "Validation Epoch: 10 [380/628 (95%)]\tLoss: 0.247848: : 20it [00:08,  2.32it/s]\n",
            "100%|██████████| 20/20 [00:09<00:00,  2.19it/s]"
          ],
          "name": "stderr"
        },
        {
          "output_type": "stream",
          "text": [
            "Validation Accuracy: 0.8980891719745223\n"
          ],
          "name": "stdout"
        },
        {
          "output_type": "stream",
          "text": [
            "\n",
            "Train Epoch: 11 [4632/6200 (99%)]\tLoss: 0.113315: : 194it [01:40,  1.93it/s]\n",
            "100%|██████████| 194/194 [01:45<00:00,  1.84it/s]"
          ],
          "name": "stderr"
        },
        {
          "output_type": "stream",
          "text": [
            "Training Accuracy: 0.8785483870967742\n"
          ],
          "name": "stdout"
        },
        {
          "output_type": "stream",
          "text": [
            "\n",
            "Validation Epoch: 11 [380/628 (95%)]\tLoss: 0.170902: : 20it [00:08,  2.32it/s]\n",
            "100%|██████████| 20/20 [00:09<00:00,  2.20it/s]"
          ],
          "name": "stderr"
        },
        {
          "output_type": "stream",
          "text": [
            "Validation Accuracy: 0.8980891719745223\n"
          ],
          "name": "stdout"
        },
        {
          "output_type": "stream",
          "text": [
            "\n",
            "Train Epoch: 12 [4632/6200 (99%)]\tLoss: 0.154269: : 194it [01:42,  1.89it/s]\n",
            "100%|██████████| 194/194 [01:45<00:00,  1.85it/s]"
          ],
          "name": "stderr"
        },
        {
          "output_type": "stream",
          "text": [
            "Training Accuracy: 0.8788709677419355\n"
          ],
          "name": "stdout"
        },
        {
          "output_type": "stream",
          "text": [
            "\n",
            "Validation Epoch: 12 [380/628 (95%)]\tLoss: 0.044915: : 20it [00:08,  2.25it/s]\n",
            "100%|██████████| 20/20 [00:09<00:00,  2.13it/s]"
          ],
          "name": "stderr"
        },
        {
          "output_type": "stream",
          "text": [
            "Validation Accuracy: 0.8949044585987261\n"
          ],
          "name": "stdout"
        },
        {
          "output_type": "stream",
          "text": [
            "\n",
            "Train Epoch: 13 [4632/6200 (99%)]\tLoss: 0.230351: : 194it [01:42,  1.90it/s]\n",
            "100%|██████████| 194/194 [01:44<00:00,  1.85it/s]"
          ],
          "name": "stderr"
        },
        {
          "output_type": "stream",
          "text": [
            "Training Accuracy: 0.8859677419354839\n"
          ],
          "name": "stdout"
        },
        {
          "output_type": "stream",
          "text": [
            "\n",
            "Validation Epoch: 13 [380/628 (95%)]\tLoss: 0.287576: : 20it [00:08,  2.34it/s]\n",
            "100%|██████████| 20/20 [00:09<00:00,  2.17it/s]"
          ],
          "name": "stderr"
        },
        {
          "output_type": "stream",
          "text": [
            "Validation Accuracy: 0.8996815286624203\n"
          ],
          "name": "stdout"
        },
        {
          "output_type": "stream",
          "text": [
            "\n",
            "Train Epoch: 14 [4632/6200 (99%)]\tLoss: 0.319341: : 194it [01:41,  1.90it/s]\n",
            "100%|██████████| 194/194 [01:45<00:00,  1.83it/s]"
          ],
          "name": "stderr"
        },
        {
          "output_type": "stream",
          "text": [
            "Training Accuracy: 0.8816129032258064\n"
          ],
          "name": "stdout"
        },
        {
          "output_type": "stream",
          "text": [
            "\n",
            "Validation Epoch: 14 [380/628 (95%)]\tLoss: 0.323196: : 20it [00:08,  2.29it/s]\n",
            "100%|██████████| 20/20 [00:09<00:00,  2.15it/s]"
          ],
          "name": "stderr"
        },
        {
          "output_type": "stream",
          "text": [
            "Validation Accuracy: 0.9076433121019108\n"
          ],
          "name": "stdout"
        },
        {
          "output_type": "stream",
          "text": [
            "\n",
            "Train Epoch: 15 [4632/6200 (99%)]\tLoss: 0.186716: : 194it [01:42,  1.89it/s]\n",
            "100%|██████████| 194/194 [01:46<00:00,  1.83it/s]"
          ],
          "name": "stderr"
        },
        {
          "output_type": "stream",
          "text": [
            "Training Accuracy: 0.8832258064516129\n"
          ],
          "name": "stdout"
        },
        {
          "output_type": "stream",
          "text": [
            "\n",
            "Validation Epoch: 15 [380/628 (95%)]\tLoss: 0.092355: : 20it [00:08,  2.23it/s]\n",
            "100%|██████████| 20/20 [00:09<00:00,  2.13it/s]"
          ],
          "name": "stderr"
        },
        {
          "output_type": "stream",
          "text": [
            "Validation Accuracy: 0.89171974522293\n"
          ],
          "name": "stdout"
        },
        {
          "output_type": "stream",
          "text": [
            "\n",
            "Train Epoch: 16 [4632/6200 (99%)]\tLoss: 0.340299: : 194it [01:43,  1.87it/s]\n",
            "100%|██████████| 194/194 [01:46<00:00,  1.82it/s]"
          ],
          "name": "stderr"
        },
        {
          "output_type": "stream",
          "text": [
            "Training Accuracy: 0.8879032258064516\n"
          ],
          "name": "stdout"
        },
        {
          "output_type": "stream",
          "text": [
            "\n",
            "Validation Epoch: 16 [380/628 (95%)]\tLoss: 0.144463: : 20it [00:08,  2.27it/s]\n",
            "100%|██████████| 20/20 [00:09<00:00,  2.13it/s]"
          ],
          "name": "stderr"
        },
        {
          "output_type": "stream",
          "text": [
            "Validation Accuracy: 0.910828025477707\n"
          ],
          "name": "stdout"
        },
        {
          "output_type": "stream",
          "text": [
            "\n",
            "Train Epoch: 17 [4632/6200 (99%)]\tLoss: 0.206051: : 194it [01:43,  1.87it/s]\n",
            "100%|██████████| 194/194 [01:46<00:00,  1.83it/s]"
          ],
          "name": "stderr"
        },
        {
          "output_type": "stream",
          "text": [
            "Training Accuracy: 0.8937096774193548\n"
          ],
          "name": "stdout"
        },
        {
          "output_type": "stream",
          "text": [
            "\n",
            "Validation Epoch: 17 [380/628 (95%)]\tLoss: 0.155354: : 20it [00:08,  2.29it/s]\n",
            "100%|██████████| 20/20 [00:09<00:00,  2.15it/s]"
          ],
          "name": "stderr"
        },
        {
          "output_type": "stream",
          "text": [
            "Validation Accuracy: 0.9076433121019108\n"
          ],
          "name": "stdout"
        },
        {
          "output_type": "stream",
          "text": [
            "\n",
            "Train Epoch: 18 [4632/6200 (99%)]\tLoss: 0.212815: : 194it [01:42,  1.89it/s]\n",
            "100%|██████████| 194/194 [01:45<00:00,  1.84it/s]"
          ],
          "name": "stderr"
        },
        {
          "output_type": "stream",
          "text": [
            "Training Accuracy: 0.8866129032258064\n"
          ],
          "name": "stdout"
        },
        {
          "output_type": "stream",
          "text": [
            "\n",
            "Validation Epoch: 18 [380/628 (95%)]\tLoss: 0.124701: : 20it [00:08,  2.27it/s]\n",
            "100%|██████████| 20/20 [00:09<00:00,  2.17it/s]"
          ],
          "name": "stderr"
        },
        {
          "output_type": "stream",
          "text": [
            "Validation Accuracy: 0.910828025477707\n"
          ],
          "name": "stdout"
        },
        {
          "output_type": "stream",
          "text": [
            "\n",
            "Train Epoch: 19 [4632/6200 (99%)]\tLoss: 0.028223: : 194it [01:42,  1.90it/s]\n",
            "100%|██████████| 194/194 [01:45<00:00,  1.84it/s]"
          ],
          "name": "stderr"
        },
        {
          "output_type": "stream",
          "text": [
            "Training Accuracy: 0.8875806451612903\n"
          ],
          "name": "stdout"
        },
        {
          "output_type": "stream",
          "text": [
            "\n",
            "Validation Epoch: 19 [380/628 (95%)]\tLoss: 0.124610: : 20it [00:08,  2.32it/s]\n",
            "100%|██████████| 20/20 [00:09<00:00,  2.17it/s]"
          ],
          "name": "stderr"
        },
        {
          "output_type": "stream",
          "text": [
            "Validation Accuracy: 0.8996815286624203\n"
          ],
          "name": "stdout"
        },
        {
          "output_type": "stream",
          "text": [
            "\n",
            "Train Epoch: 20 [4632/6200 (99%)]\tLoss: 0.077862: : 194it [01:42,  1.89it/s]\n",
            "100%|██████████| 194/194 [01:44<00:00,  1.85it/s]"
          ],
          "name": "stderr"
        },
        {
          "output_type": "stream",
          "text": [
            "Training Accuracy: 0.8859677419354839\n"
          ],
          "name": "stdout"
        },
        {
          "output_type": "stream",
          "text": [
            "\n",
            "Validation Epoch: 20 [380/628 (95%)]\tLoss: 0.205646: : 20it [00:08,  2.32it/s]\n",
            "100%|██████████| 20/20 [00:09<00:00,  2.18it/s]"
          ],
          "name": "stderr"
        },
        {
          "output_type": "stream",
          "text": [
            "Validation Accuracy: 0.9076433121019108\n"
          ],
          "name": "stdout"
        },
        {
          "output_type": "stream",
          "text": [
            "\n",
            "Train Epoch: 21 [4632/6200 (99%)]\tLoss: 0.214723: : 194it [01:42,  1.88it/s]\n",
            "100%|██████████| 194/194 [01:46<00:00,  1.83it/s]"
          ],
          "name": "stderr"
        },
        {
          "output_type": "stream",
          "text": [
            "Training Accuracy: 0.8851612903225806\n"
          ],
          "name": "stdout"
        },
        {
          "output_type": "stream",
          "text": [
            "\n",
            "Validation Epoch: 21 [380/628 (95%)]\tLoss: 0.213252: : 20it [00:08,  2.32it/s]\n",
            "100%|██████████| 20/20 [00:09<00:00,  2.13it/s]"
          ],
          "name": "stderr"
        },
        {
          "output_type": "stream",
          "text": [
            "Validation Accuracy: 0.9076433121019108\n"
          ],
          "name": "stdout"
        },
        {
          "output_type": "stream",
          "text": [
            "\n",
            "Train Epoch: 22 [4632/6200 (99%)]\tLoss: 0.189896: : 194it [01:43,  1.88it/s]\n",
            "100%|██████████| 194/194 [01:46<00:00,  1.83it/s]"
          ],
          "name": "stderr"
        },
        {
          "output_type": "stream",
          "text": [
            "Training Accuracy: 0.8877419354838709\n"
          ],
          "name": "stdout"
        },
        {
          "output_type": "stream",
          "text": [
            "\n",
            "Validation Epoch: 22 [380/628 (95%)]\tLoss: 0.228067: : 20it [00:08,  2.30it/s]\n",
            "100%|██████████| 20/20 [00:09<00:00,  2.12it/s]"
          ],
          "name": "stderr"
        },
        {
          "output_type": "stream",
          "text": [
            "Validation Accuracy: 0.893312101910828\n"
          ],
          "name": "stdout"
        },
        {
          "output_type": "stream",
          "text": [
            "\n",
            "Train Epoch: 23 [4632/6200 (99%)]\tLoss: 0.248190: : 194it [01:43,  1.87it/s]\n",
            "100%|██████████| 194/194 [01:46<00:00,  1.82it/s]"
          ],
          "name": "stderr"
        },
        {
          "output_type": "stream",
          "text": [
            "Training Accuracy: 0.8920967741935484\n"
          ],
          "name": "stdout"
        },
        {
          "output_type": "stream",
          "text": [
            "\n",
            "Validation Epoch: 23 [380/628 (95%)]\tLoss: 0.062336: : 20it [00:08,  2.25it/s]\n",
            "100%|██████████| 20/20 [00:09<00:00,  2.14it/s]"
          ],
          "name": "stderr"
        },
        {
          "output_type": "stream",
          "text": [
            "Validation Accuracy: 0.8996815286624203\n"
          ],
          "name": "stdout"
        },
        {
          "output_type": "stream",
          "text": [
            "\n",
            "Train Epoch: 24 [4632/6200 (99%)]\tLoss: 0.153772: : 194it [01:42,  1.89it/s]\n",
            "100%|██████████| 194/194 [01:45<00:00,  1.84it/s]"
          ],
          "name": "stderr"
        },
        {
          "output_type": "stream",
          "text": [
            "Training Accuracy: 0.8970967741935484\n"
          ],
          "name": "stdout"
        },
        {
          "output_type": "stream",
          "text": [
            "\n",
            "Validation Epoch: 24 [380/628 (95%)]\tLoss: 0.066406: : 20it [00:08,  2.31it/s]\n",
            "100%|██████████| 20/20 [00:09<00:00,  2.13it/s]"
          ],
          "name": "stderr"
        },
        {
          "output_type": "stream",
          "text": [
            "Validation Accuracy: 0.8980891719745223\n"
          ],
          "name": "stdout"
        },
        {
          "output_type": "stream",
          "text": [
            "\n",
            "Train Epoch: 25 [4632/6200 (99%)]\tLoss: 0.152152: : 194it [01:41,  1.91it/s]\n",
            "100%|██████████| 194/194 [01:45<00:00,  1.84it/s]"
          ],
          "name": "stderr"
        },
        {
          "output_type": "stream",
          "text": [
            "Training Accuracy: 0.8943548387096775\n"
          ],
          "name": "stdout"
        },
        {
          "output_type": "stream",
          "text": [
            "\n",
            "Validation Epoch: 25 [380/628 (95%)]\tLoss: 0.116791: : 20it [00:08,  2.32it/s]\n",
            "100%|██████████| 20/20 [00:09<00:00,  2.15it/s]"
          ],
          "name": "stderr"
        },
        {
          "output_type": "stream",
          "text": [
            "Validation Accuracy: 0.9156050955414012\n"
          ],
          "name": "stdout"
        },
        {
          "output_type": "stream",
          "text": [
            "\n",
            "Train Epoch: 26 [4632/6200 (99%)]\tLoss: 0.153088: : 194it [01:41,  1.90it/s]\n",
            "100%|██████████| 194/194 [01:44<00:00,  1.85it/s]"
          ],
          "name": "stderr"
        },
        {
          "output_type": "stream",
          "text": [
            "Training Accuracy: 0.9008064516129032\n"
          ],
          "name": "stdout"
        },
        {
          "output_type": "stream",
          "text": [
            "\n",
            "Validation Epoch: 26 [380/628 (95%)]\tLoss: 0.142739: : 20it [00:08,  2.33it/s]\n",
            "100%|██████████| 20/20 [00:09<00:00,  2.16it/s]"
          ],
          "name": "stderr"
        },
        {
          "output_type": "stream",
          "text": [
            "Validation Accuracy: 0.9076433121019108\n"
          ],
          "name": "stdout"
        },
        {
          "output_type": "stream",
          "text": [
            "\n",
            "Train Epoch: 27 [4632/6200 (99%)]\tLoss: 0.105358: : 194it [01:41,  1.91it/s]\n",
            "100%|██████████| 194/194 [01:44<00:00,  1.85it/s]"
          ],
          "name": "stderr"
        },
        {
          "output_type": "stream",
          "text": [
            "Training Accuracy: 0.8998387096774193\n"
          ],
          "name": "stdout"
        },
        {
          "output_type": "stream",
          "text": [
            "\n",
            "Validation Epoch: 27 [380/628 (95%)]\tLoss: 0.180061: : 20it [00:08,  2.28it/s]\n",
            "100%|██████████| 20/20 [00:09<00:00,  2.13it/s]"
          ],
          "name": "stderr"
        },
        {
          "output_type": "stream",
          "text": [
            "Validation Accuracy: 0.9076433121019108\n"
          ],
          "name": "stdout"
        },
        {
          "output_type": "stream",
          "text": [
            "\n",
            "Train Epoch: 28 [4632/6200 (99%)]\tLoss: 0.119090: : 194it [01:47,  1.80it/s]\n",
            "100%|██████████| 194/194 [01:50<00:00,  1.75it/s]"
          ],
          "name": "stderr"
        },
        {
          "output_type": "stream",
          "text": [
            "Training Accuracy: 0.8862903225806451\n"
          ],
          "name": "stdout"
        },
        {
          "output_type": "stream",
          "text": [
            "\n",
            "Validation Epoch: 28 [380/628 (95%)]\tLoss: 0.132286: : 20it [00:09,  2.21it/s]\n",
            "100%|██████████| 20/20 [00:09<00:00,  2.09it/s]"
          ],
          "name": "stderr"
        },
        {
          "output_type": "stream",
          "text": [
            "Validation Accuracy: 0.9092356687898089\n"
          ],
          "name": "stdout"
        },
        {
          "output_type": "stream",
          "text": [
            "\n",
            "Train Epoch: 29 [4632/6200 (99%)]\tLoss: 0.139068: : 194it [01:47,  1.80it/s]\n",
            "100%|██████████| 194/194 [01:48<00:00,  1.79it/s]"
          ],
          "name": "stderr"
        },
        {
          "output_type": "stream",
          "text": [
            "Training Accuracy: 0.8974193548387097\n"
          ],
          "name": "stdout"
        },
        {
          "output_type": "stream",
          "text": [
            "\n",
            "Validation Epoch: 29 [380/628 (95%)]\tLoss: 0.093472: : 20it [00:08,  2.30it/s]\n",
            "100%|██████████| 20/20 [00:09<00:00,  2.14it/s]"
          ],
          "name": "stderr"
        },
        {
          "output_type": "stream",
          "text": [
            "Validation Accuracy: 0.910828025477707\n",
            "Finished Training\n"
          ],
          "name": "stdout"
        },
        {
          "output_type": "stream",
          "text": [
            "\n"
          ],
          "name": "stderr"
        }
      ]
    },
    {
      "cell_type": "code",
      "metadata": {
        "id": "5YxOMZ5lBTPz",
        "colab_type": "code",
        "colab": {}
      },
      "source": [
        "#torch.save(res18.state_dict(), 'res18_without_focal_loss.pth')"
      ],
      "execution_count": 0,
      "outputs": []
    },
    {
      "cell_type": "code",
      "metadata": {
        "id": "zXI52jLrwbEz",
        "colab_type": "code",
        "colab": {
          "base_uri": "https://localhost:8080/",
          "height": 295
        },
        "outputId": "9396728d-bd7e-4e0c-a144-082ea3090860"
      },
      "source": [
        "plt.title(\"Loss Curves\")\n",
        "plt.xlabel(\"Epochs\")\n",
        "plt.ylabel(\"Loss\")\n",
        "plt.plot(train_loss, label='Training Loss')\n",
        "plt.plot(validation_loss, label='Validation Loss')\n",
        "plt.legend(loc='best')\n",
        "plt.show()"
      ],
      "execution_count": 12,
      "outputs": [
        {
          "output_type": "display_data",
          "data": {
            "image/png": "[encoded data removed]",
            "text/plain": [
              "<Figure size 432x288 with 1 Axes>"
            ]
          },
          "metadata": {
            "tags": [],
            "needs_background": "light"
          }
        }
      ]
    },
    {
      "cell_type": "code",
      "metadata": {
        "id": "VPUUp2dOQi8q",
        "colab_type": "code",
        "colab": {
          "base_uri": "https://localhost:8080/",
          "height": 295
        },
        "outputId": "22042a9e-eea6-4a2f-c981-1f70b60dd7ec"
      },
      "source": [
        "plt.title(\"Accuracy Curves\")\n",
        "plt.xlabel(\"Epochs\")\n",
        "plt.ylabel(\"Accuracy\")\n",
        "plt.plot(train_accu, label='Training Accuracy')\n",
        "plt.plot(validation_accu, label='Validation Accuracy')\n",
        "plt.legend(loc='best')\n",
        "plt.show()"
      ],
      "execution_count": 13,
      "outputs": [
        {
          "output_type": "display_data",
          "data": {
            "image/png": "[encoded data removed]",
            "text/plain": [
              "<Figure size 432x288 with 1 Axes>"
            ]
          },
          "metadata": {
            "tags": [],
            "needs_background": "light"
          }
        }
      ]
    },
    {
      "cell_type": "markdown",
      "metadata": {
        "id": "5MZ0XY2DDKVG",
        "colab_type": "text"
      },
      "source": [
        "# Testing"
      ]
    },
    {
      "cell_type": "code",
      "metadata": {
        "id": "17R6tUCf37nq",
        "colab_type": "code",
        "colab": {
          "base_uri": "https://localhost:8080/",
          "height": 85
        },
        "outputId": "c1820b28-98de-4029-9e45-efd2eaa810e5"
      },
      "source": [
        "# # # #print(\"Calculating Training Accuracy\")\n",
        "# train_accuracy = Accuracy(res18,trainloader)\n",
        "# print(\"Training Accuracy\",train_accuracy[0])\n",
        "\n",
        "# # print(\"Calculating Validation Accuracy\")\n",
        "# valid_accuracy = Accuracy(res18,validationloader)\n",
        "# # print(\"Validation Accuracy\",valid_accuracy[0])\n",
        "# print(valid_accuracy[-1])\n",
        "\n",
        "print(\"Calcualting Testing Results\")\n",
        "testloader = torch.utils.data.DataLoader(test_data, batch_size=629, shuffle=False, num_workers=4)\n",
        "test_accuracy = Accuracy(res18,testloader)\n",
        "print(\"covid patiens:\", test_accuracy[0])\n",
        "t_out = test_accuracy[-1]\n",
        "\n",
        "report = []\n",
        "for i in range(len(test_data.imgs)):\n",
        "    label = (test_data.imgs[i][0].split('/')[-1])\n",
        "    report.append([label,t_out[i][0],t_out[i][1],t_out[i][2]])\n",
        "print(\"Creating CSV report\")\n",
        "import csv\n",
        "with open('report_res18_without_focal_loss.csv', 'w', newline='') as file:\n",
        "    writer = csv.writer(file)\n",
        "    writer.writerows(report)"
      ],
      "execution_count": 94,
      "outputs": [
        {
          "output_type": "stream",
          "text": [
            "\r  0%|          | 0/1 [00:00<?, ?it/s]"
          ],
          "name": "stderr"
        },
        {
          "output_type": "stream",
          "text": [
            "Calcualting Testing Results\n"
          ],
          "name": "stdout"
        },
        {
          "output_type": "stream",
          "text": [
            "100%|██████████| 1/1 [00:11<00:00, 11.75s/it]"
          ],
          "name": "stderr"
        },
        {
          "output_type": "stream",
          "text": [
            "covid patiens: 0.0047694753577106515\n",
            "Creating CSV report\n"
          ],
          "name": "stdout"
        },
        {
          "output_type": "stream",
          "text": [
            "\n"
          ],
          "name": "stderr"
        }
      ]
    },
    {
      "cell_type": "code",
      "metadata": {
        "id": "HJ1FStDksGRC",
        "colab_type": "code",
        "colab": {}
      },
      "source": [
        "def ConfusionMatrix(y_true,y_pred):\n",
        "    for i in range(len(y_true)):\n",
        "        y_true[i] = str(y_true[i])\n",
        "        y_pred[i] = str(y_pred[i])\n",
        "    #print(\"set: y_pred\", set(y_pred))\n",
        "    #print(\"set: y_true\", set(y_true))\n",
        "    from sklearn.metrics import confusion_matrix, classification_report\n",
        "    print(confusion_matrix(y_true,y_pred))\n",
        "    print(\"-----------------------------------------\")\n",
        "    print(classification_report(y_true,y_pred))\n"
      ],
      "execution_count": 0,
      "outputs": []
    },
    {
      "cell_type": "code",
      "metadata": {
        "id": "YoDR3b92SAos",
        "colab_type": "code",
        "colab": {
          "base_uri": "https://localhost:8080/",
          "height": 445
        },
        "outputId": "4c376420-bdc5-417d-fad9-064899e80743"
      },
      "source": [
        "ConfusionMatrix(train_accuracy[1],train_accuracy[2])"
      ],
      "execution_count": 133,
      "outputs": [
        {
          "output_type": "stream",
          "text": [
            "[[   0    0    0    0    0    0    0]\n",
            " [  10 1702  283    3    0    0    2]\n",
            " [  13  119 3860    8    0    0    0]\n",
            " [   0    0    0    0    0    0    0]\n",
            " [   0    0    0    0    0    0    0]\n",
            " [   0    0    0    0    0    0    0]\n",
            " [   2   42  145    1    2    1    7]]\n",
            "-----------------------------------------\n",
            "                 precision    recall  f1-score   support\n",
            "\n",
            "[0.0, 0.0, 0.0]       0.00      0.00      0.00         0\n",
            "[0.0, 0.0, 1.0]       0.91      0.85      0.88      2000\n",
            "[0.0, 1.0, 0.0]       0.90      0.96      0.93      4000\n",
            "[0.0, 1.0, 1.0]       0.00      0.00      0.00         0\n",
            "[1.0, 0.0, 0.0]       0.00      0.00      0.00         0\n",
            "[1.0, 0.0, 1.0]       0.00      0.00      0.00         0\n",
            "[1.0, 1.0, 0.0]       0.78      0.04      0.07       200\n",
            "\n",
            "       accuracy                           0.90      6200\n",
            "      macro avg       0.37      0.26      0.27      6200\n",
            "   weighted avg       0.90      0.90      0.89      6200\n",
            "\n"
          ],
          "name": "stdout"
        },
        {
          "output_type": "stream",
          "text": [
            "/usr/local/lib/python3.6/dist-packages/sklearn/metrics/_classification.py:1272: UndefinedMetricWarning: Recall and F-score are ill-defined and being set to 0.0 in labels with no true samples. Use `zero_division` parameter to control this behavior.\n",
            "  _warn_prf(average, modifier, msg_start, len(result))\n"
          ],
          "name": "stderr"
        }
      ]
    },
    {
      "cell_type": "code",
      "metadata": {
        "id": "c7dxcB_uSD2x",
        "colab_type": "code",
        "colab": {
          "base_uri": "https://localhost:8080/",
          "height": 411
        },
        "outputId": "046d5d16-6a28-4f91-ce7a-c0c099def571"
      },
      "source": [
        "ConfusionMatrix(valid_accuracy[1],valid_accuracy[2])"
      ],
      "execution_count": 134,
      "outputs": [
        {
          "output_type": "stream",
          "text": [
            "[[  0   0   0   0   0]\n",
            " [  2 178  20   0   0]\n",
            " [  0   6 393   1   0]\n",
            " [  0   0   0   0   0]\n",
            " [  1   1  26   0   0]]\n",
            "-----------------------------------------\n",
            "                 precision    recall  f1-score   support\n",
            "\n",
            "[0.0, 0.0, 0.0]       0.00      0.00      0.00         0\n",
            "[0.0, 0.0, 1.0]       0.96      0.89      0.92       200\n",
            "[0.0, 1.0, 0.0]       0.90      0.98      0.94       400\n",
            "[0.0, 1.0, 1.0]       0.00      0.00      0.00         0\n",
            "[1.0, 1.0, 0.0]       0.00      0.00      0.00        28\n",
            "\n",
            "       accuracy                           0.91       628\n",
            "      macro avg       0.37      0.37      0.37       628\n",
            "   weighted avg       0.88      0.91      0.89       628\n",
            "\n"
          ],
          "name": "stdout"
        },
        {
          "output_type": "stream",
          "text": [
            "/usr/local/lib/python3.6/dist-packages/sklearn/metrics/_classification.py:1272: UndefinedMetricWarning: Precision and F-score are ill-defined and being set to 0.0 in labels with no predicted samples. Use `zero_division` parameter to control this behavior.\n",
            "  _warn_prf(average, modifier, msg_start, len(result))\n",
            "/usr/local/lib/python3.6/dist-packages/sklearn/metrics/_classification.py:1272: UndefinedMetricWarning: Recall and F-score are ill-defined and being set to 0.0 in labels with no true samples. Use `zero_division` parameter to control this behavior.\n",
            "  _warn_prf(average, modifier, msg_start, len(result))\n"
          ],
          "name": "stderr"
        }
      ]
    }
  ]
}